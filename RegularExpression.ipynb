{
  "nbformat": 4,
  "nbformat_minor": 0,
  "metadata": {
    "colab": {
      "name": "RegularExpression.ipynb",
      "provenance": [],
      "collapsed_sections": [],
      "authorship_tag": "ABX9TyOytJpYWzWv7lUDY4CjZGyc",
      "include_colab_link": true
    },
    "kernelspec": {
      "name": "python3",
      "display_name": "Python 3"
    },
    "language_info": {
      "name": "python"
    }
  },
  "cells": [
    {
      "cell_type": "markdown",
      "metadata": {
        "id": "view-in-github",
        "colab_type": "text"
      },
      "source": [
        "<a href=\"https://colab.research.google.com/github/ShikaiKevinLiu/Study/blob/main/RegularExpression.ipynb\" target=\"_parent\"><img src=\"https://colab.research.google.com/assets/colab-badge.svg\" alt=\"Open In Colab\"/></a>"
      ]
    },
    {
      "cell_type": "markdown",
      "source": [
        "# References:\n",
        "1. https://developers.google.com/edu/python/regular-expressions (Goolge doc)\n",
        "2. https://www.w3schools.com/python/python_regex.asp (W3 School)"
      ],
      "metadata": {
        "id": "U5J-3VrEvdYP"
      }
    },
    {
      "cell_type": "markdown",
      "source": [
        "# Raw String\n",
        "Raw string starts with \"r\", this tells python to ignore the backslash or other special cahracters."
      ],
      "metadata": {
        "id": "GZRN0N7gvbHu"
      }
    },
    {
      "cell_type": "code",
      "source": [
        "import re\n",
        "print(\"\\tHello\")\n",
        "print(r\"\\tHello\")"
      ],
      "metadata": {
        "colab": {
          "base_uri": "https://localhost:8080/"
        },
        "id": "L-YI9QAptTs8",
        "outputId": "ad16a29e-6753-4907-9cbd-85ec99ab019c"
      },
      "execution_count": 2,
      "outputs": [
        {
          "output_type": "stream",
          "name": "stdout",
          "text": [
            "\tHello\n",
            "\\tHello\n"
          ]
        }
      ]
    },
    {
      "cell_type": "markdown",
      "source": [
        "# Basic Patterns"
      ],
      "metadata": {
        "id": "X_C4sv3xwA7z"
      }
    },
    {
      "cell_type": "markdown",
      "source": [
        "\n",
        "\n",
        "1.    a, X, 9, < -- ordinary characters just match themselves exactly. The meta-characters which do not match themselves because they have special meanings are: . ^ $ * + ? { [ ] \\ | ( ) (details below)\n",
        "2.   . (a period) -- matches any single character except newline '\\n'\n",
        "3.  \\w -- (lowercase w) matches a \"word\" character: a letter or digit or underbar [a-zA-Z0-9_]. Note that although \"word\" is the mnemonic for this, it only matches a single word char, not a whole word. \\W (upper case W) matches any non-word character.\n",
        "4. \\b -- boundary between word and non-word\n",
        "5.  \\s -- (lowercase s) matches a single whitespace character -- space, newline, return, tab, form [ \\n\\r\\t\\f]. \\S (upper case S) matches any non-whitespace character.\n",
        "6.  \\t, \\n, \\r -- tab, newline, return\n",
        "7. \\d -- decimal digit [0-9])\n",
        "8. ^ =  start , \\$ = end -- match the start or end of the string\n"
      ],
      "metadata": {
        "id": "aC8y0ENowLth"
      }
    },
    {
      "cell_type": "markdown",
      "source": [
        "## Example"
      ],
      "metadata": {
        "id": "JEJhlH53zdYT"
      }
    },
    {
      "cell_type": "code",
      "source": [
        "## Search for pattern 'iii' in string 'piiig'.\n",
        "  ## All of the pattern must match, but it may appear anywhere.\n",
        "  ## On success, match.group() is matched text.\n",
        "  match = re.search(r'iii', 'piiig') # found, match.group() == \"iii\"\n",
        "  match = re.search(r'igs', 'piiig') # not found, match == None\n",
        "\n",
        "  ## . = any char but \\n\n",
        "  match = re.search(r'..g', 'piiig') # found, match.group() == \"iig\"\n",
        "\n",
        "  ## \\d = digit char, \\w = word char\n",
        "  match = re.search(r'\\d\\d\\d', 'p123g') # found, match.group() == \"123\"\n",
        "  match = re.search(r'\\w\\w\\w', '@@abcd!!') # found, match.group() == \"abc\""
      ],
      "metadata": {
        "id": "_Kw60R8rvvdT"
      },
      "execution_count": null,
      "outputs": []
    },
    {
      "cell_type": "markdown",
      "source": [
        "# Repetition"
      ],
      "metadata": {
        "id": "lk6vYw4czoSM"
      }
    },
    {
      "cell_type": "markdown",
      "source": [
        "Things get more interesting when you use + and * to specify repetition in the pattern\n",
        "\n",
        "1. \\+ -- 1 or more occurrences of the pattern to its left, e.g. 'i+' = one or more i's\n",
        "2. \\* -- 0 or more occurrences of the pattern to its left\n",
        "3. ? -- match 0 or 1 occurrences of the pattern to its left\n",
        "\n",
        "the + and * are said to be \"greedy\":\\\n",
        "First the search finds the leftmost match for the pattern, and second it tries to use up as much of the string as possible -- i.e. + and * go as far as possible (the + and * are said to be \"greedy\")."
      ],
      "metadata": {
        "id": "iX7XhCsAzq4m"
      }
    },
    {
      "cell_type": "code",
      "source": [
        "## i+ = one or more i's, as many as possible.\n",
        "match = re.search(r'pi+', 'piiig') # found, match.group() == \"piii\"\n",
        "\n",
        "## Finds the first/leftmost solution, and within it drives the +\n",
        "## as far as possible (aka 'leftmost and largest').\n",
        "## In this example, note that it does not get to the second set of i's.\n",
        "match = re.search(r'i+', 'piigiiii') # found, match.group() == \"ii\"\n",
        "\n",
        "## \\s* = zero or more whitespace chars\n",
        "## Here look for 3 digits, possibly separated by whitespace.\n",
        "match = re.search(r'\\d\\s*\\d\\s*\\d', 'xx1 2   3xx') # found, match.group() == \"1 2   3\"\n",
        "match = re.search(r'\\d\\s*\\d\\s*\\d', 'xx12  3xx') # found, match.group() == \"12  3\"\n",
        "match = re.search(r'\\d\\s*\\d\\s*\\d', 'xx123xx') # found, match.group() == \"123\"\n",
        "\n",
        "## ^ = matches the start of string, so this fails:\n",
        "match = re.search(r'^b\\w+', 'foobar') # not found, match == None\n",
        "## but without the ^ it succeeds:\n",
        "match = re.search(r'b\\w+', 'foobar') # found, match.group() == \"bar\"\n",
        "\n",
        "## ? -- match 0 or 1 occurrences of the pattern to its left\n",
        "## there are two spaces between 2 and 3 , then ? does not find.\n",
        "match = re.search(r'\\d\\s?\\d\\s?\\d', 'xx1 2   3xx') # not found, match == None"
      ],
      "metadata": {
        "id": "YSEeqxykzqNr"
      },
      "execution_count": 18,
      "outputs": []
    },
    {
      "cell_type": "markdown",
      "source": [
        "# Square Brackets"
      ],
      "metadata": {
        "id": "LTcGQ-xy16x5"
      }
    },
    {
      "cell_type": "markdown",
      "source": [
        "Square brackets can be used to indicate a set of chars, so [abc] matches 'a' or 'b' or 'c'. The codes \\w, \\s etc. work inside square brackets too with the one exception that dot (.) just means a literal dot. For the emails problem, the square brackets are an easy way to add '.' and '-' to the set of chars which can appear around the @ with the pattern r'[\\w.-]+@[\\w.-]+' to get the whole email address:"
      ],
      "metadata": {
        "id": "Lprq-YFC185k"
      }
    },
    {
      "cell_type": "code",
      "source": [
        "str = 'purple alice-b@google.com monkey dishwasher'\n",
        "match = re.search(r'[\\w.-]+@[\\w.-]+', str)\n",
        "if match:\n",
        "  print(match.group())  ## 'alice-b@google.com'"
      ],
      "metadata": {
        "colab": {
          "base_uri": "https://localhost:8080/"
        },
        "id": "mLuaJl_g2xXJ",
        "outputId": "cc1212a9-89bc-410a-f7b6-3dc0f661971a"
      },
      "execution_count": 25,
      "outputs": [
        {
          "output_type": "stream",
          "name": "stdout",
          "text": [
            "alice-b@google.com\n"
          ]
        }
      ]
    },
    {
      "cell_type": "markdown",
      "source": [
        "# Group Extraction"
      ],
      "metadata": {
        "id": "-oY1s3ji3QqR"
      }
    },
    {
      "cell_type": "markdown",
      "source": [
        "The \"group\" feature of a regular expression allows you to pick out parts of the matching text. Suppose for the emails problem that we want to extract the username and host separately. To do this, add parenthesis ( ) around the username and host in the pattern, like this: r'([\\w.-]+)@([\\w.-]+)'. In this case, the parenthesis do not change what the pattern will match, instead they establish logical \"groups\" inside of the match text. On a successful search, match.group(1) is the match text corresponding to the 1st left parenthesis, and match.group(2) is the text corresponding to the 2nd left parenthesis. The plain match.group() is still the whole match text as usual.\n",
        "\n",
        "A common workflow with regular expressions is that you write a pattern for the thing you are looking for, adding parenthesis groups to extract the parts you want."
      ],
      "metadata": {
        "id": "UeGUH5-63TW6"
      }
    },
    {
      "cell_type": "code",
      "source": [
        "str = 'purple alice-b@google.com monkey dishwasher'\n",
        "match = re.search(r'([\\w.-]+)@([\\w.-]+)', str)\n",
        "if match:\n",
        "  print(match.group())   ## 'alice-b@google.com' (the whole match)\n",
        "  print(match.group(1))  ## 'alice-b' (the username, group 1)\n",
        "  print(match.group(2))  ## 'google.com' (the host, group 2)"
      ],
      "metadata": {
        "colab": {
          "base_uri": "https://localhost:8080/"
        },
        "id": "Zc7g8M1F3Vl_",
        "outputId": "dbe63dbe-107e-4fa3-df30-b9b58effafd0"
      },
      "execution_count": 26,
      "outputs": [
        {
          "output_type": "stream",
          "name": "stdout",
          "text": [
            "alice-b@google.com\n",
            "alice-b\n",
            "google.com\n"
          ]
        }
      ]
    },
    {
      "cell_type": "markdown",
      "source": [
        "# findall\n"
      ],
      "metadata": {
        "id": "nNS1nnop3gOZ"
      }
    },
    {
      "cell_type": "markdown",
      "source": [
        "findall() is probably the single most powerful function in the re module. Above we used re.search() to find the first match for a pattern. findall() finds *all* the matches and returns them as a list of strings, with each string representing one match."
      ],
      "metadata": {
        "id": "f8SpJqxv3ngY"
      }
    },
    {
      "cell_type": "code",
      "source": [
        "## Suppose we have a text with many email addresses\n",
        "str = 'purple alice@g\\\\oogle.com, blah monkey bob@abc.com blah dishwasher'\n",
        "\n",
        "## Here re.findall() returns a list of all the found email strings\n",
        "emails = re.findall(r'[\\n\\w\\\\.-]+@[\\n\\w\\\\.-]+', str) ## ['alice@google.com', 'bob@abc.com']\n",
        "for email in emails:\n",
        "  # do something with each found email string\n",
        "  print(email)"
      ],
      "metadata": {
        "colab": {
          "base_uri": "https://localhost:8080/"
        },
        "id": "7pw4Gadu3lGY",
        "outputId": "db726640-c18b-4be9-ba01-5812a0836028"
      },
      "execution_count": 35,
      "outputs": [
        {
          "output_type": "stream",
          "name": "stdout",
          "text": [
            "alice@g\\oogle.com\n",
            "bob@abc.com\n"
          ]
        }
      ]
    },
    {
      "cell_type": "markdown",
      "source": [
        "# findall and Groups"
      ],
      "metadata": {
        "id": "gy1woDwS71fJ"
      }
    },
    {
      "cell_type": "markdown",
      "source": [
        "The parenthesis ( ) group mechanism can be combined with findall(). If the pattern includes 2 or more parenthesis groups, then instead of returning a list of strings, findall() returns a list of *tuples*. Each tuple represents one match of the pattern, and inside the tuple is the group(1), group(2) .. data. So if 2 parenthesis groups are added to the email pattern, then findall() returns a list of tuples, each length 2 containing the username and host, e.g. ('alice', 'google.com')."
      ],
      "metadata": {
        "id": "x7UOAB7C74sk"
      }
    },
    {
      "cell_type": "code",
      "source": [
        "str = 'purple alice@google.com, blah monkey bob@abc.com blah dishwasher'\n",
        "tuples = re.findall(r'([\\w\\.-]+)@([\\w\\.-]+)', str)\n",
        "print(tuples)  ## [('alice', 'google.com'), ('bob', 'abc.com')]\n",
        "for tuple in tuples:\n",
        "  print(tuple[0])  ## username\n",
        "  print(tuple[1])  ## host"
      ],
      "metadata": {
        "colab": {
          "base_uri": "https://localhost:8080/"
        },
        "id": "CmSFuvyg77Bi",
        "outputId": "620894fb-ba40-4605-ecab-9aa6b15a8413"
      },
      "execution_count": 58,
      "outputs": [
        {
          "output_type": "stream",
          "name": "stdout",
          "text": [
            "[('alice', 'google.com'), ('bob', 'abc.com')]\n",
            "alice\n",
            "google.com\n",
            "bob\n",
            "abc.com\n"
          ]
        }
      ]
    },
    {
      "cell_type": "markdown",
      "source": [
        "Once you have the list of tuples, you can loop over it to do some computation for each tuple. If the pattern includes no parenthesis, then findall() returns a list of found strings as in earlier examples. If the pattern includes a single set of parenthesis, then findall() returns a list of strings corresponding to that single group. (Obscure optional feature: Sometimes you have paren ( ) groupings in the pattern, but which you do not want to extract. In that case, write the parens with a ?: at the start, e.g. (?: ) and that left paren will not count as a group result.)"
      ],
      "metadata": {
        "id": "DSM5xkyI8QC9"
      }
    },
    {
      "cell_type": "code",
      "source": [
        "str = 'purple alice@google.com, blah monkey bob@abc.com blah dishwasher'\n",
        "tuples = re.findall(r'([\\w\\.-]+)@(?:[\\w\\.-]+)', str)\n",
        "print(tuples)  ## [('alice', 'google.com'), ('bob', 'abc.com')]\n",
        "for tuple in tuples:\n",
        "  print(tuple)  ## username\n",
        "  "
      ],
      "metadata": {
        "colab": {
          "base_uri": "https://localhost:8080/"
        },
        "id": "vbFzCFKg8Ql5",
        "outputId": "5707431b-fea9-445f-b01e-553e3cd2904c"
      },
      "execution_count": 64,
      "outputs": [
        {
          "output_type": "stream",
          "name": "stdout",
          "text": [
            "['alice', 'bob']\n",
            "alice\n",
            "bob\n"
          ]
        }
      ]
    },
    {
      "cell_type": "code",
      "source": [
        ""
      ],
      "metadata": {
        "id": "N6RpJtp59-k_"
      },
      "execution_count": null,
      "outputs": []
    }
  ]
}