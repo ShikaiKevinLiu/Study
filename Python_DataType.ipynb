{
  "nbformat": 4,
  "nbformat_minor": 0,
  "metadata": {
    "colab": {
      "name": "Untitled3.ipynb",
      "provenance": [],
      "collapsed_sections": [],
      "authorship_tag": "ABX9TyPZ2qMlmniBvyX3MosfYoeM",
      "include_colab_link": true
    },
    "kernelspec": {
      "name": "python3",
      "display_name": "Python 3"
    },
    "language_info": {
      "name": "python"
    }
  },
  "cells": [
    {
      "cell_type": "markdown",
      "metadata": {
        "id": "view-in-github",
        "colab_type": "text"
      },
      "source": [
        "<a href=\"https://colab.research.google.com/github/ShikaiKevinLiu/Study/blob/main/Python_DataType.ipynb\" target=\"_parent\"><img src=\"https://colab.research.google.com/assets/colab-badge.svg\" alt=\"Open In Colab\"/></a>"
      ]
    },
    {
      "cell_type": "markdown",
      "source": [
        "# Dictionary "
      ],
      "metadata": {
        "id": "4LLym2Am_JQ_"
      }
    },
    {
      "cell_type": "markdown",
      "source": [
        "Reference:\n",
        "1. https://python.plainenglish.io/python-programming-tutorial-dictionary-1f966191ca03"
      ],
      "metadata": {
        "id": "G4PsGz7d_Qs4"
      }
    },
    {
      "cell_type": "markdown",
      "source": [
        "## 1. Create dictionary"
      ],
      "metadata": {
        "id": "hbidEqU__snU"
      }
    },
    {
      "cell_type": "code",
      "source": [
        "# way 1\n",
        "user_info = {'name': 'Nibesh', 'education': 'Bachelors Degree', 'age': 27}\n",
        "user_info"
      ],
      "metadata": {
        "colab": {
          "base_uri": "https://localhost:8080/"
        },
        "id": "dIeZkOs1_Mai",
        "outputId": "b1372637-17e1-412c-e483-02a0e7ac4132"
      },
      "execution_count": null,
      "outputs": [
        {
          "output_type": "execute_result",
          "data": {
            "text/plain": [
              "{'age': 27, 'education': 'Bachelors Degree', 'name': 'Nibesh'}"
            ]
          },
          "metadata": {},
          "execution_count": 4
        }
      ]
    },
    {
      "cell_type": "code",
      "source": [
        "# way 2\n",
        "user_info = dict({'name': 'Nibesh', 'education': 'Bachelors Degree', 'age': 27})\n",
        "user_info"
      ],
      "metadata": {
        "colab": {
          "base_uri": "https://localhost:8080/"
        },
        "id": "0Kd9bfV1_oQJ",
        "outputId": "20aff806-27b9-4f3f-fa83-7b231ea82193"
      },
      "execution_count": null,
      "outputs": [
        {
          "output_type": "execute_result",
          "data": {
            "text/plain": [
              "{'age': 27, 'education': 'Bachelors Degree', 'name': 'Nibesh'}"
            ]
          },
          "metadata": {},
          "execution_count": 6
        }
      ]
    },
    {
      "cell_type": "markdown",
      "source": [
        "## 2. keys and values operations"
      ],
      "metadata": {
        "id": "Sje4JEQp_2Uw"
      }
    },
    {
      "cell_type": "markdown",
      "source": [
        "Three built-in functions:\n",
        "1. keys()\n",
        "2. values()\n",
        "3. items()"
      ],
      "metadata": {
        "id": "kPNmciYhA058"
      }
    },
    {
      "cell_type": "code",
      "source": [
        "print(user_info.keys())  # keys\n",
        "print(user_info.values()) # values\n",
        "print(user_info.items())  # key-value pairs"
      ],
      "metadata": {
        "colab": {
          "base_uri": "https://localhost:8080/"
        },
        "id": "w0T_UDHS_w1N",
        "outputId": "c2703e56-ea66-4e88-f60b-fd814bf89704"
      },
      "execution_count": null,
      "outputs": [
        {
          "output_type": "stream",
          "name": "stdout",
          "text": [
            "dict_keys(['name', 'education', 'age'])\n",
            "dict_values(['Nibesh', 'Bachelors Degree', 27])\n",
            "dict_items([('name', 'Nibesh'), ('education', 'Bachelors Degree'), ('age', 27)])\n"
          ]
        }
      ]
    },
    {
      "cell_type": "code",
      "source": [
        "print(list((user_info.keys()))) # keys\n",
        "print(list(user_info.values())) # values\n",
        "print(list(user_info.items()))  # key-value pairs"
      ],
      "metadata": {
        "colab": {
          "base_uri": "https://localhost:8080/"
        },
        "id": "2HPvOzMB__au",
        "outputId": "4df06a97-8ba5-4a0c-8019-f07dab5cb3d4"
      },
      "execution_count": null,
      "outputs": [
        {
          "output_type": "stream",
          "name": "stdout",
          "text": [
            "['name', 'education', 'age']\n",
            "['Nibesh', 'Bachelors Degree', 27]\n",
            "[('name', 'Nibesh'), ('education', 'Bachelors Degree'), ('age', 27)]\n"
          ]
        }
      ]
    },
    {
      "cell_type": "code",
      "source": [
        ""
      ],
      "metadata": {
        "id": "KoTK8U6oBI0X"
      },
      "execution_count": null,
      "outputs": []
    },
    {
      "cell_type": "markdown",
      "source": [
        "### how to check if a key exits:"
      ],
      "metadata": {
        "id": "j-t1U5O4BKsU"
      }
    },
    {
      "cell_type": "code",
      "source": [
        "if 'name' in user_info:\n",
        "    print(user_info['name'])"
      ],
      "metadata": {
        "colab": {
          "base_uri": "https://localhost:8080/"
        },
        "id": "H8aYBtUOBOMN",
        "outputId": "d888fc14-1c3a-4c80-fe78-7ca1c10cf3dd"
      },
      "execution_count": null,
      "outputs": [
        {
          "output_type": "stream",
          "name": "stdout",
          "text": [
            "Nibesh\n"
          ]
        }
      ]
    },
    {
      "cell_type": "code",
      "source": [
        "if 'Name' in user_info:\n",
        "    print(user_info['Name'])"
      ],
      "metadata": {
        "id": "CGrwEVPXBQ_Y"
      },
      "execution_count": null,
      "outputs": []
    },
    {
      "cell_type": "markdown",
      "source": [
        "## 3. Are dictionaries mutable?"
      ],
      "metadata": {
        "id": "dtycAFj4BcvL"
      }
    },
    {
      "cell_type": "markdown",
      "source": [
        "Yes, the Python dictionary is a mutable object.\n",
        "\n",
        "Meaning, we can change, add or remove key-value pairs after assigning."
      ],
      "metadata": {
        "id": "HgpkIaJPBmTM"
      }
    },
    {
      "cell_type": "code",
      "source": [
        "student_info = {\n",
        "    'id': 12,\n",
        "    'nationality': 'China',\n",
        "    'gender': 'Male'\n",
        "    }\n",
        "print(\"Student info original: \", student_info)\n",
        "student_info['gender'] = 'Female'\n",
        "print(\"Student info after update: \", student_info)"
      ],
      "metadata": {
        "colab": {
          "base_uri": "https://localhost:8080/"
        },
        "id": "abQeViE7BjHC",
        "outputId": "3ee62533-7b29-4560-b151-35e9c021b0fa"
      },
      "execution_count": null,
      "outputs": [
        {
          "output_type": "stream",
          "name": "stdout",
          "text": [
            "Student info original:  {'id': 12, 'nationality': 'China', 'gender': 'Male'}\n",
            "Student info after update:  {'id': 12, 'nationality': 'China', 'gender': 'Female'}\n"
          ]
        }
      ]
    },
    {
      "cell_type": "markdown",
      "source": [
        "## 4. pop() and popitem() in Dictionary"
      ],
      "metadata": {
        "id": "bbRkq-OajPuP"
      }
    },
    {
      "cell_type": "code",
      "source": [
        "recurrence_dict = {\n",
        "'current_location': 'Usa',\n",
        "'job': 'sofware engineer',\n",
        "'older_location': 'Canada'}\n",
        "print(\"Before popping: \", recurrence_dict)"
      ],
      "metadata": {
        "colab": {
          "base_uri": "https://localhost:8080/"
        },
        "id": "BuAqEB7Xi-sI",
        "outputId": "182b537d-c558-42bc-e231-e5c5839f8560"
      },
      "execution_count": null,
      "outputs": [
        {
          "output_type": "stream",
          "name": "stdout",
          "text": [
            "Before popping:  {'current_location': 'Usa', 'job': 'sofware engineer', 'older_location': 'Canada'}\n"
          ]
        }
      ]
    },
    {
      "cell_type": "code",
      "source": [
        "# popitem() remove the last item in a dictionary\n",
        "recurrence_dict.popitem()\n",
        "print(\"After popping: \", recurrence_dict)"
      ],
      "metadata": {
        "colab": {
          "base_uri": "https://localhost:8080/"
        },
        "id": "NKRjlT51jGg6",
        "outputId": "82ce3ebc-f6af-4953-e730-f3044c3f111e"
      },
      "execution_count": null,
      "outputs": [
        {
          "output_type": "stream",
          "name": "stdout",
          "text": [
            "After popping:  {'current_location': 'Usa', 'job': 'sofware engineer'}\n"
          ]
        }
      ]
    },
    {
      "cell_type": "code",
      "source": [
        "# pop() remove the any item in a dictionary\n",
        "recurrence_dict.pop(\"current_location\")\n",
        "print(\"After popping: \", recurrence_dict)"
      ],
      "metadata": {
        "colab": {
          "base_uri": "https://localhost:8080/"
        },
        "id": "4nqLCq03jNjX",
        "outputId": "a2ca560b-c101-418d-cd4c-3297abdc50b2"
      },
      "execution_count": null,
      "outputs": [
        {
          "output_type": "stream",
          "name": "stdout",
          "text": [
            "After popping:  {'job': 'sofware engineer'}\n"
          ]
        }
      ]
    },
    {
      "cell_type": "markdown",
      "source": [
        "## 5. Sort dictionary by keys and values"
      ],
      "metadata": {
        "id": "xw8ebvjEkKNX"
      }
    },
    {
      "cell_type": "markdown",
      "source": [
        "Reference:\n",
        "1. https://www.w3schools.com/python/ref_func_sorted.asp"
      ],
      "metadata": {
        "id": "MPfGV5FVkuYu"
      }
    },
    {
      "cell_type": "code",
      "source": [
        "# Sort dictionary by Keys\n",
        "students_by_regions_finland = {\n",
        "  'cusimaa': 1000000,\n",
        "  'bothern ostrobothina': 900000,\n",
        "  'aastern finlnad': 900000\n",
        "  }\n",
        "print(students_by_regions_finland)\n",
        "# Sorted by keys\n",
        "students_by_regions_finland_ascending = dict(sorted(students_by_regions_finland.items(), key=lambda dict_item: dict_item[0]))\n",
        "print(students_by_regions_finland_ascending)"
      ],
      "metadata": {
        "colab": {
          "base_uri": "https://localhost:8080/"
        },
        "id": "bBVFY_36kNYh",
        "outputId": "551352a4-e1da-4978-9197-bac73fe5b712"
      },
      "execution_count": null,
      "outputs": [
        {
          "output_type": "stream",
          "name": "stdout",
          "text": [
            "{'cusimaa': 1000000, 'bothern ostrobothina': 900000, 'aastern finlnad': 900000}\n",
            "{'aastern finlnad': 900000, 'bothern ostrobothina': 900000, 'cusimaa': 1000000}\n"
          ]
        }
      ]
    },
    {
      "cell_type": "code",
      "source": [
        "# sort by values\n",
        "software_dev_salary = {\n",
        "    'junior_web_developer': 50000,\n",
        "    'senior_data_scientist': 120000,\n",
        "    'machine_learning_engineer': 90000,\n",
        "    }\n",
        "software_dev_salary_sorted_descending = dict(sorted(software_dev_salary.items(), key=lambda dict_item: dict_item[1], reverse=True))\n",
        "print(software_dev_salary)\n",
        "print(software_dev_salary_sorted_descending)"
      ],
      "metadata": {
        "colab": {
          "base_uri": "https://localhost:8080/"
        },
        "id": "Ec9ONcsTkWEv",
        "outputId": "67d1f893-173d-4c8e-956b-44e9f337378b"
      },
      "execution_count": null,
      "outputs": [
        {
          "output_type": "stream",
          "name": "stdout",
          "text": [
            "{'junior_web_developer': 50000, 'senior_data_scientist': 120000, 'machine_learning_engineer': 90000}\n",
            "{'senior_data_scientist': 120000, 'machine_learning_engineer': 90000, 'junior_web_developer': 50000}\n"
          ]
        }
      ]
    },
    {
      "cell_type": "markdown",
      "source": [
        "## 6. Merge Dictionary\n",
        "Reference: How to use ** and * in Python https://www.python-engineer.com/courses/advancedpython/19-asterisk/\n",
        "      https://www.youtube.com/watch?v=M7daahMOMMc&list=LL&index=1&t=161s"
      ],
      "metadata": {
        "id": "HYwJ9dROl3U7"
      }
    },
    {
      "cell_type": "code",
      "source": [
        "# Merge Dictionary\n",
        "dict_1 = {'name': 'Harry', 'age': 27, 'location': 'Helsinki'}\n",
        "dict_2 = {'job': 'Architect'}\n",
        "# Merge dict using ** argument\n",
        "dict_merged_1 = {**dict_1, **dict_2}\n",
        "print(dict_merged_1)"
      ],
      "metadata": {
        "colab": {
          "base_uri": "https://localhost:8080/"
        },
        "id": "hRDYAim0lmV4",
        "outputId": "66da6a16-4ac6-4a80-df3e-1e3e78fbd4b3"
      },
      "execution_count": null,
      "outputs": [
        {
          "output_type": "stream",
          "name": "stdout",
          "text": [
            "{'name': 'Harry', 'age': 27, 'location': 'Helsinki', 'job': 'Architect'}\n"
          ]
        }
      ]
    },
    {
      "cell_type": "markdown",
      "source": [
        "### 6.1 Merge lists to dictionary (zip() function)\n",
        "Reference on Zip(): https://www.bilibili.com/video/BV1VK4y1Y7NG?spm_id_from=333.337.search-card.all.click"
      ],
      "metadata": {
        "id": "IZO1lBwwnRhG"
      }
    },
    {
      "cell_type": "code",
      "source": [
        "## List to dictionary\n",
        "pets= ['dog','cat','guinea pig', 'parrot']\n",
        "# Adding two list using zip and for loops\n",
        "numbers =  [2,4,10,2]\n",
        "pet_number_dict={}\n",
        "\n",
        "for animal,num in zip(pets,numbers):\n",
        "    pet_number_dict[animal]= num\n",
        "print(pet_number_dict)"
      ],
      "metadata": {
        "colab": {
          "base_uri": "https://localhost:8080/"
        },
        "id": "U9oH_LC4nLFq",
        "outputId": "e42613cc-7a07-4366-9c10-1aa52c99ce07"
      },
      "execution_count": null,
      "outputs": [
        {
          "output_type": "stream",
          "name": "stdout",
          "text": [
            "{'dog': 2, 'cat': 4, 'guinea pig': 10, 'parrot': 2}\n"
          ]
        }
      ]
    },
    {
      "cell_type": "code",
      "source": [
        "## List to dictionary\n",
        "pets= ['dog','cat','guinea pig', 'parrot']\n",
        " \n",
        "# Add different values  using zip  and comprehension\n",
        "pet_number_dict_2 = {animal:num for animal,num in zip(pets,numbers)}\n",
        " \n",
        "print(pet_number_dict_2)"
      ],
      "metadata": {
        "colab": {
          "base_uri": "https://localhost:8080/"
        },
        "id": "DxCiRTsZnd6w",
        "outputId": "e6a4beea-0960-4a33-c753-5374882194fe"
      },
      "execution_count": null,
      "outputs": [
        {
          "output_type": "stream",
          "name": "stdout",
          "text": [
            "{'dog': 2, 'cat': 4, 'guinea pig': 10, 'parrot': 2}\n"
          ]
        }
      ]
    },
    {
      "cell_type": "code",
      "source": [
        ""
      ],
      "metadata": {
        "id": "H9xFiXz8bs2s"
      },
      "execution_count": null,
      "outputs": []
    },
    {
      "cell_type": "markdown",
      "source": [
        "# List"
      ],
      "metadata": {
        "id": "kLBx9Qg25MPU"
      }
    },
    {
      "cell_type": "markdown",
      "source": [
        "Reference: https://python.plainenglish.io/python-lists-36fda96d92b"
      ],
      "metadata": {
        "id": "LmgCppprhOif"
      }
    },
    {
      "cell_type": "markdown",
      "source": [
        "## Index function"
      ],
      "metadata": {
        "id": "0epJSiSo5jKz"
      }
    },
    {
      "cell_type": "code",
      "source": [
        "vowel_letters=['a','e','i','o','u']\n",
        "print(vowel_letters)\n",
        "\n",
        "#Print the position of items\n",
        "print(\"Position of 'a' is {} in vowel_letter.\".format(vowel_letters.index('a')))\n",
        "print(\"Position of 'u' is {} in vowel_letter.\".format(vowel_letters.index('u')))"
      ],
      "metadata": {
        "id": "9RyCExCM5NZo",
        "outputId": "16be0d03-c30d-4154-fc8e-310857af7083",
        "colab": {
          "base_uri": "https://localhost:8080/"
        }
      },
      "execution_count": 1,
      "outputs": [
        {
          "output_type": "stream",
          "name": "stdout",
          "text": [
            "['a', 'e', 'i', 'o', 'u']\n",
            "Length of vowel_letters is 5\n",
            "Position of 'a' is 0 in vowel_letter.\n",
            "Position of 'u' is 4 in vowel_letter.\n"
          ]
        }
      ]
    },
    {
      "cell_type": "markdown",
      "source": [
        "## Access item and Sicing"
      ],
      "metadata": {
        "id": "DW_v_p8p53LA"
      }
    },
    {
      "cell_type": "markdown",
      "source": [
        "The syntax for slicing is: list_name**[start: stop: step]**, where\n",
        "\n",
        "1. Start is the index of the element where you want to start slicing from. It's optional, and starts from 0 if no value is given.\n",
        "\n",
        "2. Stop is the the index of element before which you want to stop slicing. What I mean by before is that it's **exclusive**, not included in the sliced list. Also stop is also optional and ends till the last item in the list, if no value is given.\n",
        "\n",
        "3. Step is the number of jumps on each slice, it's also optional."
      ],
      "metadata": {
        "id": "ZcOYUeyC6KHC"
      }
    },
    {
      "cell_type": "code",
      "source": [
        "alist = [i for i in range(0, 50)]\n",
        "\n",
        "print(alist)\n",
        "\n",
        "print(\"First 10 items in the list: \",alist[:10])\n",
        "\n",
        "print(\"Last 10 items in the list: \",alist[-10:])"
      ],
      "metadata": {
        "id": "vcXp7zPj6RGJ",
        "outputId": "18277743-5ab4-4162-eb27-e6934e69c9f7",
        "colab": {
          "base_uri": "https://localhost:8080/"
        }
      },
      "execution_count": 7,
      "outputs": [
        {
          "output_type": "stream",
          "name": "stdout",
          "text": [
            "[0, 1, 2, 3, 4, 5, 6, 7, 8, 9, 10, 11, 12, 13, 14, 15, 16, 17, 18, 19, 20, 21, 22, 23, 24, 25, 26, 27, 28, 29, 30, 31, 32, 33, 34, 35, 36, 37, 38, 39, 40, 41, 42, 43, 44, 45, 46, 47, 48, 49]\n",
            "First 10 items in the list:  [0, 1, 2, 3, 4, 5, 6, 7, 8, 9]\n",
            "Last 10 items in the list:  [40, 41, 42, 43, 44, 45, 46, 47, 48, 49]\n"
          ]
        }
      ]
    },
    {
      "cell_type": "code",
      "source": [
        "# Slice Using Start and stop\n",
        "print(\"Items from index 10th and 30th index in the list: \",alist[10:30])\n",
        "print(\"\\n\")\n",
        "# Slice using start and step\n",
        "print(\"Items starting from 5th index with +10 jump: \",alist[5::10])\n",
        "print(\"\\n\")\n",
        "#slice using stop and steps\n",
        "print(\"Items with the jump of 5 until the index of 40 \",alist[:40:5])\n",
        "# Slice with only jumps or steps\n",
        "print(\"\\n\")\n",
        "print(\"All the items 6 steps apart: \",alist[::6])"
      ],
      "metadata": {
        "id": "8wDVaeNo67w9",
        "outputId": "71781af5-7e24-4aca-e661-b09849af4416",
        "colab": {
          "base_uri": "https://localhost:8080/"
        }
      },
      "execution_count": 9,
      "outputs": [
        {
          "output_type": "stream",
          "name": "stdout",
          "text": [
            "Items from index 10th and 30th index in the list:  [10, 11, 12, 13, 14, 15, 16, 17, 18, 19, 20, 21, 22, 23, 24, 25, 26, 27, 28, 29]\n",
            "\n",
            "\n",
            "Items starting from 5th index with +10 jump:  [5, 15, 25, 35, 45]\n",
            "\n",
            "\n",
            "Items with the jump of 5 until the index of 40  [0, 5, 10, 15, 20, 25, 30, 35]\n",
            "\n",
            "\n",
            "All the items 6 steps apart:  [0, 6, 12, 18, 24, 30, 36, 42, 48]\n"
          ]
        }
      ]
    },
    {
      "cell_type": "code",
      "source": [
        "print(\"print item in revered order: \",alist[50:40:-1],\"\\n\")\n",
        "# if specify -1 in the step argument, then the list defautly set the start and end in reverse order\n",
        "print(\"print item in revered order: \",alist[::-1],\"\\n\")"
      ],
      "metadata": {
        "id": "G59lFsGI7Vup",
        "outputId": "aef9361f-4599-4c9f-e0fc-a199df4d5f60",
        "colab": {
          "base_uri": "https://localhost:8080/"
        }
      },
      "execution_count": 18,
      "outputs": [
        {
          "output_type": "stream",
          "name": "stdout",
          "text": [
            "print item in revered order:  [49, 48, 47, 46, 45, 44, 43, 42, 41] \n",
            "\n",
            "print item in revered order:  [49, 48, 47, 46, 45, 44, 43, 42, 41, 40, 39, 38, 37, 36, 35, 34, 33, 32, 31, 30, 29, 28, 27, 26, 25, 24, 23, 22, 21, 20, 19, 18, 17, 16, 15, 14, 13, 12, 11, 10, 9, 8, 7, 6, 5, 4, 3, 2, 1, 0] \n",
            "\n"
          ]
        }
      ]
    },
    {
      "cell_type": "markdown",
      "source": [
        "## Methods in List"
      ],
      "metadata": {
        "id": "fj20zR0W8F5g"
      }
    },
    {
      "cell_type": "markdown",
      "source": [
        "### Copy()\n",
        "Copy is a very important method on the list object. As the name suggests, it creates a new copy of the given list object. Copy comes handy when we want to tweak a list but still want to preserve the original list. So, we make a copy of the list and play with it."
      ],
      "metadata": {
        "id": "VD9M0TOH8Q1X"
      }
    },
    {
      "cell_type": "code",
      "source": [
        "clrs_in_rainbow =['red', 'orange', 'yellow', 'green', 'blue', 'indigo', 'violet']\n",
        "print(\"Colors in rainbow: \", clrs_in_rainbow)\n",
        "# create a copy\n",
        "clrs_in_rainbow_cpy_1 = clrs_in_rainbow.copy()\n",
        "print(\"Copy of colors in rainbow: \", clrs_in_rainbow_cpy_1)"
      ],
      "metadata": {
        "id": "hDPffePg8YD8",
        "outputId": "7ce6a5c1-b006-4573-b6a7-57ed4db8b385",
        "colab": {
          "base_uri": "https://localhost:8080/"
        }
      },
      "execution_count": 19,
      "outputs": [
        {
          "output_type": "stream",
          "name": "stdout",
          "text": [
            "Colors in rainbow:  ['red', 'orange', 'yellow', 'green', 'blue', 'indigo', 'violet']\n",
            "Copy of colors in rainbow:  ['red', 'orange', 'yellow', 'green', 'blue', 'indigo', 'violet']\n"
          ]
        }
      ]
    },
    {
      "cell_type": "markdown",
      "source": [
        "### Insert()\n",
        "Insert new item at the index we specify.\n",
        "\n",
        "it happens in place, i.e it changes the original list. \n",
        "\n",
        "Note: we cant use negative index for insert such as list.insert(-1, value)"
      ],
      "metadata": {
        "id": "FEbQxp6p8rqj"
      }
    },
    {
      "cell_type": "code",
      "source": [
        "even_number_frm_10_20= [i for i in range(10,16) if i%2==0]\n",
        "print(\"Even numbers from 10 to 20: \",even_number_frm_10_20,\"\\n\")\n",
        "\n",
        "#Create new copy amd imsert new item\n",
        "extended_list = even_number_frm_10_20.copy()\n",
        "extended_list.insert(0,8)\n",
        "extended_list.insert(len(extended_list),22) \n",
        "\n",
        "print(\"Extended new list: \",extended_list,\"\\n\")\n",
        "print(\"original list\",even_number_frm_10_20,\" is not changed\")"
      ],
      "metadata": {
        "id": "jDhrfCTo9IwW",
        "outputId": "97338ad2-996a-43b0-a6bb-fa75753e0956",
        "colab": {
          "base_uri": "https://localhost:8080/"
        }
      },
      "execution_count": 28,
      "outputs": [
        {
          "output_type": "stream",
          "name": "stdout",
          "text": [
            "Even numbers from 10 to 20:  [10, 12, 14] \n",
            "\n",
            "Extended new list:  [8, 10, 12, 14, 22] \n",
            "\n",
            "original list [10, 12, 14]  is not changed\n"
          ]
        }
      ]
    },
    {
      "cell_type": "markdown",
      "source": [
        "### Remove() & Pop()\n",
        "Remove() the first matching item from the list. The input is a **value** in a list. If values does not exist, then error!!!\n",
        "\n",
        "pop() use index as index, it removes the item on the index.\n"
      ],
      "metadata": {
        "id": "ZMt70wy2-aP9"
      }
    },
    {
      "cell_type": "code",
      "source": [
        "alist = [7,2,7]\n",
        "print(alist)\n",
        "\n",
        "#Lets remove carrots from the list\n",
        "alist.remove(2)\n",
        "print(alist)"
      ],
      "metadata": {
        "id": "5bb_u6m4-Yt-",
        "outputId": "1050eff4-0498-4b6f-cb8b-c40f13cc28ef",
        "colab": {
          "base_uri": "https://localhost:8080/"
        }
      },
      "execution_count": 36,
      "outputs": [
        {
          "output_type": "stream",
          "name": "stdout",
          "text": [
            "[7, 2, 7]\n",
            "[7, 7]\n"
          ]
        }
      ]
    },
    {
      "cell_type": "code",
      "source": [
        "alist = [1,2,1,7,11]\n",
        "print(alist)\n",
        "\n",
        "# remove the last item from the list\n",
        "alist.pop()\n",
        "print(alist)\n",
        "\n",
        "alist.pop(0)\n",
        "print(alist)"
      ],
      "metadata": {
        "id": "hzK2aJ3Y_NKX",
        "outputId": "934e18ee-73cf-49e8-8a8d-1ba61510319a",
        "colab": {
          "base_uri": "https://localhost:8080/"
        }
      },
      "execution_count": 38,
      "outputs": [
        {
          "output_type": "stream",
          "name": "stdout",
          "text": [
            "[1, 2, 1, 7, 11]\n",
            "[1, 2, 1, 7]\n",
            "[2, 1, 7]\n"
          ]
        }
      ]
    },
    {
      "cell_type": "markdown",
      "source": [
        "### Count()\n",
        "count the occurence of a items in a list"
      ],
      "metadata": {
        "id": "f4VgO-qOAlxN"
      }
    },
    {
      "cell_type": "code",
      "source": [
        "### Count topic\n",
        "alist= [1,1,2,4,1]\n",
        "#print the list\n",
        "print(alist)\n",
        "\n",
        "print(alist.count(1))\n",
        "print(alist.count(45)) "
      ],
      "metadata": {
        "id": "kM7nGyQVAp0P",
        "outputId": "d74e1097-d732-4868-ace7-2bcb8f8a24ff",
        "colab": {
          "base_uri": "https://localhost:8080/"
        }
      },
      "execution_count": 42,
      "outputs": [
        {
          "output_type": "stream",
          "name": "stdout",
          "text": [
            "[1, 1, 2, 4, 1]\n",
            "3\n",
            "0\n"
          ]
        }
      ]
    },
    {
      "cell_type": "markdown",
      "source": [
        "### Sort() and Sorted()\n",
        "sort() is in-place,  it changes the list directly.\n",
        "\n",
        "sorted() create a new list, which is sorted"
      ],
      "metadata": {
        "id": "MrxuJda8BfbD"
      }
    },
    {
      "cell_type": "code",
      "source": [
        "# Sort\n",
        "a =[24,6,92,10,500,2,82]\n",
        "print(\"The original list: \", a)\n",
        "a.sort()\n",
        "print(\"After sorted, random list:,\" ,a,\"\\n\")\n",
        "\n",
        "b =[24,6,92,10,500,2,82]\n",
        "print(\"The original list: \", b)\n",
        "c = sorted(b)\n",
        "print(\"After sorted random list:,\" ,c)"
      ],
      "metadata": {
        "id": "3WnQjNWfBfxl",
        "outputId": "b380c3ff-a2a8-48f6-ef49-09d8da42992f",
        "colab": {
          "base_uri": "https://localhost:8080/"
        }
      },
      "execution_count": 48,
      "outputs": [
        {
          "output_type": "stream",
          "name": "stdout",
          "text": [
            "The original list:  [24, 6, 92, 10, 500, 2, 82]\n",
            "After sorted, random list:, [2, 6, 10, 24, 82, 92, 500] \n",
            "\n",
            "The original list:  [24, 6, 92, 10, 500, 2, 82]\n",
            "After sorted random list:, [2, 6, 10, 24, 82, 92, 500]\n"
          ]
        }
      ]
    },
    {
      "cell_type": "markdown",
      "source": [
        "### Reverse() & and Reversed()\n",
        "Reverse() is in-place\n",
        "\n",
        "Reversed() create new list"
      ],
      "metadata": {
        "id": "KQH3amvADaNh"
      }
    },
    {
      "cell_type": "code",
      "source": [
        "# Reverse\n",
        "a =[1,2,3]\n",
        "a.reverse()\n",
        "print(\"after reverse \", a,\"\\n\")\n",
        "\n",
        "# Reversed\n",
        "a =[1,2,3]\n",
        "b = list(reversed(a))\n",
        "print(\"Original list \",a)\n",
        "print(\"after reverse \", b)"
      ],
      "metadata": {
        "id": "dSCP07z1Dfe0",
        "outputId": "56e7b92e-5bfa-4062-84e0-ae9209511c42",
        "colab": {
          "base_uri": "https://localhost:8080/"
        }
      },
      "execution_count": 57,
      "outputs": [
        {
          "output_type": "stream",
          "name": "stdout",
          "text": [
            "after reverse  [3, 2, 1] \n",
            "\n",
            "Original list  [1, 2, 3]\n",
            "after reverse  [3, 2, 1]\n"
          ]
        }
      ]
    },
    {
      "cell_type": "markdown",
      "source": [
        "### List Comprehension"
      ],
      "metadata": {
        "id": "cNz-NOfSguj3"
      }
    },
    {
      "cell_type": "code",
      "source": [
        "even_numbers_less_50_v2 = [i for i in range(50) if (i % 2 == 0)]\n",
        "print(even_numbers_less_50_v2)"
      ],
      "metadata": {
        "id": "8wQmwwWLDs2W",
        "outputId": "65aa6aa6-4071-4227-b550-fa43fc372173",
        "colab": {
          "base_uri": "https://localhost:8080/"
        }
      },
      "execution_count": 2,
      "outputs": [
        {
          "output_type": "stream",
          "name": "stdout",
          "text": [
            "[0, 2, 4, 6, 8, 10, 12, 14, 16, 18, 20, 22, 24, 26, 28, 30, 32, 34, 36, 38, 40, 42, 44, 46, 48]\n"
          ]
        }
      ]
    },
    {
      "cell_type": "code",
      "source": [
        ""
      ],
      "metadata": {
        "id": "dpaBvvzug0w_"
      },
      "execution_count": null,
      "outputs": []
    },
    {
      "cell_type": "markdown",
      "source": [
        "# Strings\n"
      ],
      "metadata": {
        "id": "QwglFaDohRAT"
      }
    },
    {
      "cell_type": "markdown",
      "source": [
        "Reference: https://python.plainenglish.io/python-programming-tutorial-strings-80faeb836f10"
      ],
      "metadata": {
        "id": "F8vFRLwphTSs"
      }
    },
    {
      "cell_type": "code",
      "source": [
        ""
      ],
      "metadata": {
        "id": "0lPg-9TFhYQF"
      },
      "execution_count": null,
      "outputs": []
    }
  ]
}