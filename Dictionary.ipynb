{
  "nbformat": 4,
  "nbformat_minor": 0,
  "metadata": {
    "colab": {
      "name": "Untitled3.ipynb",
      "provenance": [],
      "collapsed_sections": [],
      "toc_visible": true,
      "authorship_tag": "ABX9TyPi+frPGady7Q2RTlqmbZyP",
      "include_colab_link": true
    },
    "kernelspec": {
      "name": "python3",
      "display_name": "Python 3"
    },
    "language_info": {
      "name": "python"
    }
  },
  "cells": [
    {
      "cell_type": "markdown",
      "metadata": {
        "id": "view-in-github",
        "colab_type": "text"
      },
      "source": [
        "<a href=\"https://colab.research.google.com/github/ShikaiKevinLiu/Study/blob/main/Dictionary.ipynb\" target=\"_parent\"><img src=\"https://colab.research.google.com/assets/colab-badge.svg\" alt=\"Open In Colab\"/></a>"
      ]
    },
    {
      "cell_type": "markdown",
      "source": [
        "# Dictionary"
      ],
      "metadata": {
        "id": "4LLym2Am_JQ_"
      }
    },
    {
      "cell_type": "markdown",
      "source": [
        "Reference:\n",
        "1. https://python.plainenglish.io/python-programming-tutorial-dictionary-1f966191ca03"
      ],
      "metadata": {
        "id": "G4PsGz7d_Qs4"
      }
    },
    {
      "cell_type": "markdown",
      "source": [
        "## 1. Create dictionary"
      ],
      "metadata": {
        "id": "hbidEqU__snU"
      }
    },
    {
      "cell_type": "code",
      "source": [
        "# way 1\n",
        "user_info = {'name': 'Nibesh', 'education': 'Bachelors Degree', 'age': 27}\n",
        "user_info"
      ],
      "metadata": {
        "colab": {
          "base_uri": "https://localhost:8080/"
        },
        "id": "dIeZkOs1_Mai",
        "outputId": "b1372637-17e1-412c-e483-02a0e7ac4132"
      },
      "execution_count": null,
      "outputs": [
        {
          "output_type": "execute_result",
          "data": {
            "text/plain": [
              "{'age': 27, 'education': 'Bachelors Degree', 'name': 'Nibesh'}"
            ]
          },
          "metadata": {},
          "execution_count": 4
        }
      ]
    },
    {
      "cell_type": "code",
      "source": [
        "# way 2\n",
        "user_info = dict({'name': 'Nibesh', 'education': 'Bachelors Degree', 'age': 27})\n",
        "user_info"
      ],
      "metadata": {
        "colab": {
          "base_uri": "https://localhost:8080/"
        },
        "id": "0Kd9bfV1_oQJ",
        "outputId": "20aff806-27b9-4f3f-fa83-7b231ea82193"
      },
      "execution_count": null,
      "outputs": [
        {
          "output_type": "execute_result",
          "data": {
            "text/plain": [
              "{'age': 27, 'education': 'Bachelors Degree', 'name': 'Nibesh'}"
            ]
          },
          "metadata": {},
          "execution_count": 6
        }
      ]
    },
    {
      "cell_type": "markdown",
      "source": [
        "## 2. keys and values operations"
      ],
      "metadata": {
        "id": "Sje4JEQp_2Uw"
      }
    },
    {
      "cell_type": "markdown",
      "source": [
        "Three built-in functions:\n",
        "1. keys()\n",
        "2. values()\n",
        "3. items()"
      ],
      "metadata": {
        "id": "kPNmciYhA058"
      }
    },
    {
      "cell_type": "code",
      "source": [
        "print(user_info.keys())  # keys\n",
        "print(user_info.values()) # values\n",
        "print(user_info.items())  # key-value pairs"
      ],
      "metadata": {
        "colab": {
          "base_uri": "https://localhost:8080/"
        },
        "id": "w0T_UDHS_w1N",
        "outputId": "c2703e56-ea66-4e88-f60b-fd814bf89704"
      },
      "execution_count": null,
      "outputs": [
        {
          "output_type": "stream",
          "name": "stdout",
          "text": [
            "dict_keys(['name', 'education', 'age'])\n",
            "dict_values(['Nibesh', 'Bachelors Degree', 27])\n",
            "dict_items([('name', 'Nibesh'), ('education', 'Bachelors Degree'), ('age', 27)])\n"
          ]
        }
      ]
    },
    {
      "cell_type": "code",
      "source": [
        "print(list((user_info.keys()))) # keys\n",
        "print(list(user_info.values())) # values\n",
        "print(list(user_info.items()))  # key-value pairs"
      ],
      "metadata": {
        "colab": {
          "base_uri": "https://localhost:8080/"
        },
        "id": "2HPvOzMB__au",
        "outputId": "4df06a97-8ba5-4a0c-8019-f07dab5cb3d4"
      },
      "execution_count": null,
      "outputs": [
        {
          "output_type": "stream",
          "name": "stdout",
          "text": [
            "['name', 'education', 'age']\n",
            "['Nibesh', 'Bachelors Degree', 27]\n",
            "[('name', 'Nibesh'), ('education', 'Bachelors Degree'), ('age', 27)]\n"
          ]
        }
      ]
    },
    {
      "cell_type": "code",
      "source": [
        ""
      ],
      "metadata": {
        "id": "KoTK8U6oBI0X"
      },
      "execution_count": null,
      "outputs": []
    },
    {
      "cell_type": "markdown",
      "source": [
        "### how to check if a key exits:"
      ],
      "metadata": {
        "id": "j-t1U5O4BKsU"
      }
    },
    {
      "cell_type": "code",
      "source": [
        "if 'name' in user_info:\n",
        "    print(user_info['name'])"
      ],
      "metadata": {
        "colab": {
          "base_uri": "https://localhost:8080/"
        },
        "id": "H8aYBtUOBOMN",
        "outputId": "d888fc14-1c3a-4c80-fe78-7ca1c10cf3dd"
      },
      "execution_count": null,
      "outputs": [
        {
          "output_type": "stream",
          "name": "stdout",
          "text": [
            "Nibesh\n"
          ]
        }
      ]
    },
    {
      "cell_type": "code",
      "source": [
        "if 'Name' in user_info:\n",
        "    print(user_info['Name'])"
      ],
      "metadata": {
        "id": "CGrwEVPXBQ_Y"
      },
      "execution_count": null,
      "outputs": []
    },
    {
      "cell_type": "markdown",
      "source": [
        "## 3. Are dictionaries mutable?"
      ],
      "metadata": {
        "id": "dtycAFj4BcvL"
      }
    },
    {
      "cell_type": "markdown",
      "source": [
        "Yes, the Python dictionary is a mutable object.\n",
        "\n",
        "Meaning, we can change, add or remove key-value pairs after assigning."
      ],
      "metadata": {
        "id": "HgpkIaJPBmTM"
      }
    },
    {
      "cell_type": "code",
      "source": [
        "student_info = {\n",
        "    'id': 12,\n",
        "    'nationality': 'China',\n",
        "    'gender': 'Male'\n",
        "    }\n",
        "print(\"Student info original: \", student_info)\n",
        "student_info['gender'] = 'Female'\n",
        "print(\"Student info after update: \", student_info)"
      ],
      "metadata": {
        "colab": {
          "base_uri": "https://localhost:8080/"
        },
        "id": "abQeViE7BjHC",
        "outputId": "3ee62533-7b29-4560-b151-35e9c021b0fa"
      },
      "execution_count": null,
      "outputs": [
        {
          "output_type": "stream",
          "name": "stdout",
          "text": [
            "Student info original:  {'id': 12, 'nationality': 'China', 'gender': 'Male'}\n",
            "Student info after update:  {'id': 12, 'nationality': 'China', 'gender': 'Female'}\n"
          ]
        }
      ]
    },
    {
      "cell_type": "markdown",
      "source": [
        "## 4. pop() and popitem() in Dictionary"
      ],
      "metadata": {
        "id": "bbRkq-OajPuP"
      }
    },
    {
      "cell_type": "code",
      "source": [
        "recurrence_dict = {\n",
        "'current_location': 'Usa',\n",
        "'job': 'sofware engineer',\n",
        "'older_location': 'Canada'}\n",
        "print(\"Before popping: \", recurrence_dict)"
      ],
      "metadata": {
        "colab": {
          "base_uri": "https://localhost:8080/"
        },
        "id": "BuAqEB7Xi-sI",
        "outputId": "182b537d-c558-42bc-e231-e5c5839f8560"
      },
      "execution_count": null,
      "outputs": [
        {
          "output_type": "stream",
          "name": "stdout",
          "text": [
            "Before popping:  {'current_location': 'Usa', 'job': 'sofware engineer', 'older_location': 'Canada'}\n"
          ]
        }
      ]
    },
    {
      "cell_type": "code",
      "source": [
        "# popitem() remove the last item in a dictionary\n",
        "recurrence_dict.popitem()\n",
        "print(\"After popping: \", recurrence_dict)"
      ],
      "metadata": {
        "colab": {
          "base_uri": "https://localhost:8080/"
        },
        "id": "NKRjlT51jGg6",
        "outputId": "82ce3ebc-f6af-4953-e730-f3044c3f111e"
      },
      "execution_count": null,
      "outputs": [
        {
          "output_type": "stream",
          "name": "stdout",
          "text": [
            "After popping:  {'current_location': 'Usa', 'job': 'sofware engineer'}\n"
          ]
        }
      ]
    },
    {
      "cell_type": "code",
      "source": [
        "# pop() remove the any item in a dictionary\n",
        "recurrence_dict.pop(\"current_location\")\n",
        "print(\"After popping: \", recurrence_dict)"
      ],
      "metadata": {
        "colab": {
          "base_uri": "https://localhost:8080/"
        },
        "id": "4nqLCq03jNjX",
        "outputId": "a2ca560b-c101-418d-cd4c-3297abdc50b2"
      },
      "execution_count": null,
      "outputs": [
        {
          "output_type": "stream",
          "name": "stdout",
          "text": [
            "After popping:  {'job': 'sofware engineer'}\n"
          ]
        }
      ]
    },
    {
      "cell_type": "markdown",
      "source": [
        "## 5. Sort dictionary by keys and values"
      ],
      "metadata": {
        "id": "xw8ebvjEkKNX"
      }
    },
    {
      "cell_type": "markdown",
      "source": [
        "Reference:\n",
        "1. https://www.w3schools.com/python/ref_func_sorted.asp"
      ],
      "metadata": {
        "id": "MPfGV5FVkuYu"
      }
    },
    {
      "cell_type": "code",
      "source": [
        "# Sort dictionary by Keys\n",
        "students_by_regions_finland = {\n",
        "  'cusimaa': 1000000,\n",
        "  'bothern ostrobothina': 900000,\n",
        "  'aastern finlnad': 900000\n",
        "  }\n",
        "print(students_by_regions_finland)\n",
        "# Sorted by keys\n",
        "students_by_regions_finland_ascending = dict(sorted(students_by_regions_finland.items(), key=lambda dict_item: dict_item[0]))\n",
        "print(students_by_regions_finland_ascending)"
      ],
      "metadata": {
        "colab": {
          "base_uri": "https://localhost:8080/"
        },
        "id": "bBVFY_36kNYh",
        "outputId": "551352a4-e1da-4978-9197-bac73fe5b712"
      },
      "execution_count": null,
      "outputs": [
        {
          "output_type": "stream",
          "name": "stdout",
          "text": [
            "{'cusimaa': 1000000, 'bothern ostrobothina': 900000, 'aastern finlnad': 900000}\n",
            "{'aastern finlnad': 900000, 'bothern ostrobothina': 900000, 'cusimaa': 1000000}\n"
          ]
        }
      ]
    },
    {
      "cell_type": "code",
      "source": [
        "# sort by values\n",
        "software_dev_salary = {\n",
        "    'junior_web_developer': 50000,\n",
        "    'senior_data_scientist': 120000,\n",
        "    'machine_learning_engineer': 90000,\n",
        "    }\n",
        "software_dev_salary_sorted_descending = dict(sorted(software_dev_salary.items(), key=lambda dict_item: dict_item[1], reverse=True))\n",
        "print(software_dev_salary)\n",
        "print(software_dev_salary_sorted_descending)"
      ],
      "metadata": {
        "colab": {
          "base_uri": "https://localhost:8080/"
        },
        "id": "Ec9ONcsTkWEv",
        "outputId": "67d1f893-173d-4c8e-956b-44e9f337378b"
      },
      "execution_count": null,
      "outputs": [
        {
          "output_type": "stream",
          "name": "stdout",
          "text": [
            "{'junior_web_developer': 50000, 'senior_data_scientist': 120000, 'machine_learning_engineer': 90000}\n",
            "{'senior_data_scientist': 120000, 'machine_learning_engineer': 90000, 'junior_web_developer': 50000}\n"
          ]
        }
      ]
    },
    {
      "cell_type": "markdown",
      "source": [
        "## 6. Merge Dictionary\n",
        "Reference: How to use ** and * in Python https://www.python-engineer.com/courses/advancedpython/19-asterisk/\n",
        "      https://www.youtube.com/watch?v=M7daahMOMMc&list=LL&index=1&t=161s"
      ],
      "metadata": {
        "id": "HYwJ9dROl3U7"
      }
    },
    {
      "cell_type": "code",
      "source": [
        "# Merge Dictionary\n",
        "dict_1 = {'name': 'Harry', 'age': 27, 'location': 'Helsinki'}\n",
        "dict_2 = {'job': 'Architect'}\n",
        "# Merge dict using ** argument\n",
        "dict_merged_1 = {**dict_1, **dict_2}\n",
        "print(dict_merged_1)"
      ],
      "metadata": {
        "colab": {
          "base_uri": "https://localhost:8080/"
        },
        "id": "hRDYAim0lmV4",
        "outputId": "66da6a16-4ac6-4a80-df3e-1e3e78fbd4b3"
      },
      "execution_count": null,
      "outputs": [
        {
          "output_type": "stream",
          "name": "stdout",
          "text": [
            "{'name': 'Harry', 'age': 27, 'location': 'Helsinki', 'job': 'Architect'}\n"
          ]
        }
      ]
    },
    {
      "cell_type": "markdown",
      "source": [
        "### 6.1 Merge lists to dictionary (zip() function)\n",
        "Reference on Zip(): https://www.bilibili.com/video/BV1VK4y1Y7NG?spm_id_from=333.337.search-card.all.click"
      ],
      "metadata": {
        "id": "IZO1lBwwnRhG"
      }
    },
    {
      "cell_type": "code",
      "source": [
        "## List to dictionary\n",
        "pets= ['dog','cat','guinea pig', 'parrot']\n",
        "# Adding two list using zip and for loops\n",
        "numbers =  [2,4,10,2]\n",
        "pet_number_dict={}\n",
        "\n",
        "for animal,num in zip(pets,numbers):\n",
        "    pet_number_dict[animal]= num\n",
        "print(pet_number_dict)"
      ],
      "metadata": {
        "colab": {
          "base_uri": "https://localhost:8080/"
        },
        "id": "U9oH_LC4nLFq",
        "outputId": "e42613cc-7a07-4366-9c10-1aa52c99ce07"
      },
      "execution_count": null,
      "outputs": [
        {
          "output_type": "stream",
          "name": "stdout",
          "text": [
            "{'dog': 2, 'cat': 4, 'guinea pig': 10, 'parrot': 2}\n"
          ]
        }
      ]
    },
    {
      "cell_type": "code",
      "source": [
        "## List to dictionary\n",
        "pets= ['dog','cat','guinea pig', 'parrot']\n",
        " \n",
        "# Add different values  using zip  and comprehension\n",
        "pet_number_dict_2 = {animal:num for animal,num in zip(pets,numbers)}\n",
        " \n",
        "print(pet_number_dict_2)"
      ],
      "metadata": {
        "colab": {
          "base_uri": "https://localhost:8080/"
        },
        "id": "DxCiRTsZnd6w",
        "outputId": "e6a4beea-0960-4a33-c753-5374882194fe"
      },
      "execution_count": null,
      "outputs": [
        {
          "output_type": "stream",
          "name": "stdout",
          "text": [
            "{'dog': 2, 'cat': 4, 'guinea pig': 10, 'parrot': 2}\n"
          ]
        }
      ]
    },
    {
      "cell_type": "code",
      "source": [
        ""
      ],
      "metadata": {
        "id": "H9xFiXz8bs2s"
      },
      "execution_count": null,
      "outputs": []
    }
  ]
}